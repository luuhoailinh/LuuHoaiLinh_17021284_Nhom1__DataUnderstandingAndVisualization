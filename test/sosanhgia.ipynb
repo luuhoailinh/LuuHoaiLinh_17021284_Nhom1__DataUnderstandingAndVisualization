{
 "cells": [
  {
   "cell_type": "code",
   "execution_count": 104,
   "metadata": {},
   "outputs": [],
   "source": [
    "import pandas as pd\n",
    "file = open('data.txt', encoding=\"utf8\")\n",
    "file1 = open('data_ssg.txt', encoding=\"utf8\")"
   ]
  },
  {
   "cell_type": "code",
   "execution_count": 105,
   "metadata": {},
   "outputs": [],
   "source": [
    "df = pd.read_csv(file, sep=\"delimiter\", engine='python')\n",
    "\n",
    "df1 = pd.read_csv(file1, sep=\"delimiter\", engine='python')"
   ]
  },
  {
   "cell_type": "code",
   "execution_count": 106,
   "metadata": {},
   "outputs": [],
   "source": [
    "# #convert txt to csv\n",
    "# df.to_csv(r\"C:\\Users\\Admin\\Desktop\\Lab\\W3\\cvt.csv\", index=None)"
   ]
  },
  {
   "cell_type": "code",
   "execution_count": 107,
   "metadata": {
    "scrolled": true
   },
   "outputs": [
    {
     "name": "stdout",
     "output_type": "stream",
     "text": [
      "Index(['{'], dtype='object')\n",
      "(13, 1)\n"
     ]
    }
   ],
   "source": [
    "#set name for column\n",
    "# df.columns = [\"meh\"]\n",
    "\n",
    "# get column names\n",
    "print(df.columns)\n",
    "\n",
    "#numbers of rows and cols\n",
    "print(df.shape)"
   ]
  },
  {
   "cell_type": "code",
   "execution_count": 108,
   "metadata": {},
   "outputs": [
    {
     "data": {
      "text/html": [
       "<div>\n",
       "<style scoped>\n",
       "    .dataframe tbody tr th:only-of-type {\n",
       "        vertical-align: middle;\n",
       "    }\n",
       "\n",
       "    .dataframe tbody tr th {\n",
       "        vertical-align: top;\n",
       "    }\n",
       "\n",
       "    .dataframe thead th {\n",
       "        text-align: right;\n",
       "    }\n",
       "</style>\n",
       "<table border=\"1\" class=\"dataframe\">\n",
       "  <thead>\n",
       "    <tr style=\"text-align: right;\">\n",
       "      <th></th>\n",
       "      <th>meh1</th>\n",
       "    </tr>\n",
       "  </thead>\n",
       "  <tbody>\n",
       "    <tr>\n",
       "      <th>0</th>\n",
       "      <td>{\"link\": \"https://www.sosanhgia.com/p2884-macb...</td>\n",
       "    </tr>\n",
       "    <tr>\n",
       "      <th>1</th>\n",
       "      <td>{\"link\": \"https://www.sosanhgia.com/p5498-macb...</td>\n",
       "    </tr>\n",
       "    <tr>\n",
       "      <th>2</th>\n",
       "      <td>{\"link\": \"https://www.sosanhgia.com/p39528-mac...</td>\n",
       "    </tr>\n",
       "    <tr>\n",
       "      <th>3</th>\n",
       "      <td>{\"link\": \"https://www.sosanhgia.com/p167163-ma...</td>\n",
       "    </tr>\n",
       "    <tr>\n",
       "      <th>4</th>\n",
       "      <td>{\"link\": \"https://www.sosanhgia.com/p37449-mac...</td>\n",
       "    </tr>\n",
       "    <tr>\n",
       "      <th>...</th>\n",
       "      <td>...</td>\n",
       "    </tr>\n",
       "    <tr>\n",
       "      <th>2808</th>\n",
       "      <td>{\"link\": \"https://www.sosanhgia.com/p7434-may-...</td>\n",
       "    </tr>\n",
       "    <tr>\n",
       "      <th>2809</th>\n",
       "      <td>{\"link\": \"https://www.sosanhgia.com/p22608-man...</td>\n",
       "    </tr>\n",
       "    <tr>\n",
       "      <th>2810</th>\n",
       "      <td>{\"link\": \"https://www.sosanhgia.com/p206847-da...</td>\n",
       "    </tr>\n",
       "    <tr>\n",
       "      <th>2811</th>\n",
       "      <td>{\"link\": \"https://www.sosanhgia.com/p30270-muc...</td>\n",
       "    </tr>\n",
       "    <tr>\n",
       "      <th>2812</th>\n",
       "      <td>{\"link\": \"https://www.sosanhgia.com/p108947-di...</td>\n",
       "    </tr>\n",
       "  </tbody>\n",
       "</table>\n",
       "<p>2813 rows × 1 columns</p>\n",
       "</div>"
      ],
      "text/plain": [
       "                                                   meh1\n",
       "0     {\"link\": \"https://www.sosanhgia.com/p2884-macb...\n",
       "1     {\"link\": \"https://www.sosanhgia.com/p5498-macb...\n",
       "2     {\"link\": \"https://www.sosanhgia.com/p39528-mac...\n",
       "3     {\"link\": \"https://www.sosanhgia.com/p167163-ma...\n",
       "4     {\"link\": \"https://www.sosanhgia.com/p37449-mac...\n",
       "...                                                 ...\n",
       "2808  {\"link\": \"https://www.sosanhgia.com/p7434-may-...\n",
       "2809  {\"link\": \"https://www.sosanhgia.com/p22608-man...\n",
       "2810  {\"link\": \"https://www.sosanhgia.com/p206847-da...\n",
       "2811  {\"link\": \"https://www.sosanhgia.com/p30270-muc...\n",
       "2812  {\"link\": \"https://www.sosanhgia.com/p108947-di...\n",
       "\n",
       "[2813 rows x 1 columns]"
      ]
     },
     "execution_count": 108,
     "metadata": {},
     "output_type": "execute_result"
    }
   ],
   "source": [
    "df1.columns = [\"meh1\"]\n",
    "\n",
    "df1"
   ]
  },
  {
   "cell_type": "code",
   "execution_count": 109,
   "metadata": {
    "scrolled": true
   },
   "outputs": [
    {
     "data": {
      "text/html": [
       "<div>\n",
       "<style scoped>\n",
       "    .dataframe tbody tr th:only-of-type {\n",
       "        vertical-align: middle;\n",
       "    }\n",
       "\n",
       "    .dataframe tbody tr th {\n",
       "        vertical-align: top;\n",
       "    }\n",
       "\n",
       "    .dataframe thead th {\n",
       "        text-align: right;\n",
       "    }\n",
       "</style>\n",
       "<table border=\"1\" class=\"dataframe\">\n",
       "  <thead>\n",
       "    <tr style=\"text-align: right;\">\n",
       "      <th></th>\n",
       "      <th>{</th>\n",
       "    </tr>\n",
       "  </thead>\n",
       "  <tbody>\n",
       "    <tr>\n",
       "      <th>0</th>\n",
       "      <td>\"link\": \"https://www.sosanhgia.com/p186133-lap...</td>\n",
       "    </tr>\n",
       "    <tr>\n",
       "      <th>1</th>\n",
       "      <td>\"category\": [\"Máy tính - Thiết bị VP\", \"Laptop...</td>\n",
       "    </tr>\n",
       "  </tbody>\n",
       "</table>\n",
       "</div>"
      ],
      "text/plain": [
       "                                                   {\n",
       "0  \"link\": \"https://www.sosanhgia.com/p186133-lap...\n",
       "1  \"category\": [\"Máy tính - Thiết bị VP\", \"Laptop..."
      ]
     },
     "execution_count": 109,
     "metadata": {},
     "output_type": "execute_result"
    }
   ],
   "source": [
    "#get row 1st, 2nd\n",
    "df.loc[[0,1]]\n",
    "\n"
   ]
  },
  {
   "cell_type": "code",
   "execution_count": 110,
   "metadata": {},
   "outputs": [
    {
     "data": {
      "text/plain": [
       "meh1    {\"link\": \"https://www.sosanhgia.com/p2884-macb...\n",
       "Name: 0, dtype: object"
      ]
     },
     "execution_count": 110,
     "metadata": {},
     "output_type": "execute_result"
    }
   ],
   "source": [
    "df1.loc[0]"
   ]
  },
  {
   "cell_type": "code",
   "execution_count": 111,
   "metadata": {
    "scrolled": false
   },
   "outputs": [],
   "source": [
    "df_dict = pd.DataFrame.from_dict(df)"
   ]
  },
  {
   "cell_type": "code",
   "execution_count": 112,
   "metadata": {},
   "outputs": [
    {
     "data": {
      "text/html": [
       "<div>\n",
       "<style scoped>\n",
       "    .dataframe tbody tr th:only-of-type {\n",
       "        vertical-align: middle;\n",
       "    }\n",
       "\n",
       "    .dataframe tbody tr th {\n",
       "        vertical-align: top;\n",
       "    }\n",
       "\n",
       "    .dataframe thead th {\n",
       "        text-align: right;\n",
       "    }\n",
       "</style>\n",
       "<table border=\"1\" class=\"dataframe\">\n",
       "  <thead>\n",
       "    <tr style=\"text-align: right;\">\n",
       "      <th></th>\n",
       "      <th>{</th>\n",
       "    </tr>\n",
       "  </thead>\n",
       "  <tbody>\n",
       "    <tr>\n",
       "      <th>0</th>\n",
       "      <td>\"link\": \"https://www.sosanhgia.com/p186133-lap...</td>\n",
       "    </tr>\n",
       "    <tr>\n",
       "      <th>1</th>\n",
       "      <td>\"category\": [\"Máy tính - Thiết bị VP\", \"Laptop...</td>\n",
       "    </tr>\n",
       "    <tr>\n",
       "      <th>2</th>\n",
       "      <td>\"name\": \"Laptop HP Pavilion 15-CS3060TX 8RJ61PA\",</td>\n",
       "    </tr>\n",
       "    <tr>\n",
       "      <th>3</th>\n",
       "      <td>\"img_url\": \"https://img.sosanhgia.com/images/5...</td>\n",
       "    </tr>\n",
       "    <tr>\n",
       "      <th>4</th>\n",
       "      <td>\"brand\": \"HP\",</td>\n",
       "    </tr>\n",
       "    <tr>\n",
       "      <th>5</th>\n",
       "      <td>\"short_desc\": \"Bộ VXL: Core i5 1035G1 1.0Ghz-...</td>\n",
       "    </tr>\n",
       "    <tr>\n",
       "      <th>6</th>\n",
       "      <td>\"priority_price\": \"17.100.000\",</td>\n",
       "    </tr>\n",
       "    <tr>\n",
       "      <th>7</th>\n",
       "      <td>\"priority_store\": \"Shopee\",</td>\n",
       "    </tr>\n",
       "    <tr>\n",
       "      <th>8</th>\n",
       "      <td>\"num_of_product\": 19,</td>\n",
       "    </tr>\n",
       "    <tr>\n",
       "      <th>9</th>\n",
       "      <td>\"num_of_store\": 14,</td>\n",
       "    </tr>\n",
       "    <tr>\n",
       "      <th>10</th>\n",
       "      <td>\"lowest_price\": \"16.790.000\",</td>\n",
       "    </tr>\n",
       "    <tr>\n",
       "      <th>11</th>\n",
       "      <td>\"highest_price\": \"18.290.000\"</td>\n",
       "    </tr>\n",
       "    <tr>\n",
       "      <th>12</th>\n",
       "      <td>}</td>\n",
       "    </tr>\n",
       "  </tbody>\n",
       "</table>\n",
       "</div>"
      ],
      "text/plain": [
       "                                                    {\n",
       "0   \"link\": \"https://www.sosanhgia.com/p186133-lap...\n",
       "1   \"category\": [\"Máy tính - Thiết bị VP\", \"Laptop...\n",
       "2   \"name\": \"Laptop HP Pavilion 15-CS3060TX 8RJ61PA\",\n",
       "3   \"img_url\": \"https://img.sosanhgia.com/images/5...\n",
       "4                                      \"brand\": \"HP\",\n",
       "5   \"short_desc\": \"Bộ VXL: Core i5 1035G1 1.0Ghz-...\n",
       "6                     \"priority_price\": \"17.100.000\",\n",
       "7                         \"priority_store\": \"Shopee\",\n",
       "8                               \"num_of_product\": 19,\n",
       "9                                 \"num_of_store\": 14,\n",
       "10                      \"lowest_price\": \"16.790.000\",\n",
       "11                      \"highest_price\": \"18.290.000\"\n",
       "12                                                  }"
      ]
     },
     "execution_count": 112,
     "metadata": {},
     "output_type": "execute_result"
    }
   ],
   "source": [
    "df_dict"
   ]
  }
 ],
 "metadata": {
  "kernelspec": {
   "display_name": "Python 3",
   "language": "python",
   "name": "python3"
  },
  "language_info": {
   "codemirror_mode": {
    "name": "ipython",
    "version": 3
   },
   "file_extension": ".py",
   "mimetype": "text/x-python",
   "name": "python",
   "nbconvert_exporter": "python",
   "pygments_lexer": "ipython3",
   "version": "3.7.1"
  }
 },
 "nbformat": 4,
 "nbformat_minor": 4
}
